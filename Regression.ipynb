{
  "nbformat": 4,
  "nbformat_minor": 0,
  "metadata": {
    "colab": {
      "name": "Regression.ipynb",
      "provenance": [],
      "mount_file_id": "1pQbGG2JzFjBw6I5VzenmnO8GE2CyX7-y",
      "authorship_tag": "ABX9TyPj6MaSb8mjepIjgY+1fiRk"
    },
    "kernelspec": {
      "name": "python3",
      "display_name": "Python 3"
    }
  },
  "cells": [
    {
      "cell_type": "markdown",
      "metadata": {
        "id": "kf1SNUrKJDYR",
        "colab_type": "text"
      },
      "source": [
        "# House Price Prediction Kaggle Contest"
      ]
    },
    {
      "cell_type": "code",
      "metadata": {
        "id": "WFTG76qWI-zb",
        "colab_type": "code",
        "colab": {}
      },
      "source": [
        "import numpy as np\n",
        "import pandas as pd\n",
        "import matplotlib.pyplot as plt\n",
        "import xgboost as xgb"
      ],
      "execution_count": 0,
      "outputs": []
    },
    {
      "cell_type": "code",
      "metadata": {
        "id": "HL3ABgSzJear",
        "colab_type": "code",
        "colab": {}
      },
      "source": [
        "df_train = pd.read_csv('drive/My Drive/Pytorch_DataSet/house-prices/cleaned_train.csv')\n",
        "df_test = pd.read_csv('drive/My Drive/Pytorch_DataSet/house-prices/cleaned_test.csv')"
      ],
      "execution_count": 0,
      "outputs": []
    },
    {
      "cell_type": "code",
      "metadata": {
        "id": "uQeSq5PbJvn5",
        "colab_type": "code",
        "colab": {
          "base_uri": "https://localhost:8080/",
          "height": 54
        },
        "outputId": "51cbc875-9865-4e0d-d9a6-0677c2373d2f"
      },
      "source": [
        "\"\"\"\n",
        "# For train file\n",
        "\n",
        "for col in df_train.columns:\n",
        "  print(df_train[col].isnull().sum())\n",
        "\n",
        "# For test file\n",
        "\n",
        "for col in df_test.columns:\n",
        "  print(df_test[col].isnull().sum())\n",
        "\n",
        "\"\"\""
      ],
      "execution_count": 22,
      "outputs": [
        {
          "output_type": "execute_result",
          "data": {
            "text/plain": [
              "'\\n# For train file\\n\\nfor col in df_train.columns:\\n  print(df_train[col].isnull().sum())\\n\\n# For test file\\n\\nfor col in df_test.columns:\\n  print(df_test[col].isnull().sum())\\n\\n'"
            ]
          },
          "metadata": {
            "tags": []
          },
          "execution_count": 22
        }
      ]
    },
    {
      "cell_type": "code",
      "metadata": {
        "id": "N9zbiR_fMk3W",
        "colab_type": "code",
        "colab": {}
      },
      "source": [
        "cat_cols = []\n",
        "\n",
        "for col in df_train.columns:\n",
        "  if df_train[col].dtype == 'O':\n",
        "    cat_cols.append(col)"
      ],
      "execution_count": 0,
      "outputs": []
    },
    {
      "cell_type": "code",
      "metadata": {
        "id": "fKeaD9QNM3EH",
        "colab_type": "code",
        "colab": {
          "base_uri": "https://localhost:8080/",
          "height": 391
        },
        "outputId": "0198e0d5-d9d1-4964-903f-aa11497b9e10"
      },
      "source": [
        "cat_cols"
      ],
      "execution_count": 25,
      "outputs": [
        {
          "output_type": "execute_result",
          "data": {
            "text/plain": [
              "['MSZoning',\n",
              " 'LotShape',\n",
              " 'LotConfig',\n",
              " 'Neighborhood',\n",
              " 'BldgType',\n",
              " 'HouseStyle',\n",
              " 'RoofStyle',\n",
              " 'Exterior1st',\n",
              " 'Exterior2nd',\n",
              " 'MasVnrType',\n",
              " 'ExterQual',\n",
              " 'Foundation',\n",
              " 'BsmtQual',\n",
              " 'BsmtExposure',\n",
              " 'BsmtFinType1',\n",
              " 'BsmtFinType2',\n",
              " 'HeatingQC',\n",
              " 'KitchenQual',\n",
              " 'FireplaceQu',\n",
              " 'GarageType',\n",
              " 'GarageFinish',\n",
              " 'SaleCondition']"
            ]
          },
          "metadata": {
            "tags": []
          },
          "execution_count": 25
        }
      ]
    },
    {
      "cell_type": "code",
      "metadata": {
        "id": "y-8J35FZJ7IU",
        "colab_type": "code",
        "colab": {}
      },
      "source": [
        "# For train file\n",
        "\n",
        "for col in df_train.columns:\n",
        "  if df_train[col].dtype == 'O':\n",
        "    df_train[col] = df_train[col].astype('category')\n",
        "\n",
        "# For test file\n",
        "\n",
        "for col in df_test.columns:\n",
        "  if df_test[col].dtype == 'O':\n",
        "    df_test[col] = df_test[col].astype('category')\n"
      ],
      "execution_count": 0,
      "outputs": []
    },
    {
      "cell_type": "code",
      "metadata": {
        "id": "rEiBu8ulKuUt",
        "colab_type": "code",
        "colab": {}
      },
      "source": [
        "# df_train.info()"
      ],
      "execution_count": 0,
      "outputs": []
    },
    {
      "cell_type": "code",
      "metadata": {
        "id": "lxgQr1dCKwbR",
        "colab_type": "code",
        "colab": {}
      },
      "source": [
        "# df_test.info()"
      ],
      "execution_count": 0,
      "outputs": []
    },
    {
      "cell_type": "code",
      "metadata": {
        "id": "akNOT3RbLOQY",
        "colab_type": "code",
        "colab": {
          "base_uri": "https://localhost:8080/",
          "height": 68
        },
        "outputId": "606f320e-13c1-495c-cb33-6ad78d2d5c2b"
      },
      "source": [
        "\"\"\"\n",
        "print(len(df_test['GarageType'].cat.categories))\n",
        "print(df_test['GarageType'].cat.categories)\n",
        "print(df_test['GarageType'].dtype)\n",
        "\"\"\""
      ],
      "execution_count": 14,
      "outputs": [
        {
          "output_type": "stream",
          "text": [
            "6\n",
            "Index(['2Types', 'Attchd', 'Basment', 'BuiltIn', 'CarPort', 'Detchd'], dtype='object')\n",
            "category\n"
          ],
          "name": "stdout"
        }
      ]
    },
    {
      "cell_type": "code",
      "metadata": {
        "id": "a6l3lDdrK0mV",
        "colab_type": "code",
        "colab": {
          "base_uri": "https://localhost:8080/",
          "height": 391
        },
        "outputId": "d3cc91a5-528b-479d-cc9a-d38ff4f36376"
      },
      "source": [
        "# Checking different categories for category columns\n",
        "cols_to_be_removed = []\n",
        "\n",
        "for col in cat_cols:\n",
        "  print(col, len(df_train[col].cat.categories), len(df_test[col].cat.categories))\n",
        "\n",
        "  if len(df_train[col].cat.categories) != len(df_test[col].cat.categories):\n",
        "    cols_to_be_removed.append(col)\n",
        "    \n",
        "  # For train columns\n",
        "  df_train[col] = df_train[col].cat.codes.values\n",
        "\n",
        "  # For test columns\n",
        "  df_test[col] = df_test[col].cat.codes.values\n",
        "\n"
      ],
      "execution_count": 32,
      "outputs": [
        {
          "output_type": "stream",
          "text": [
            "MSZoning 5 5\n",
            "LotShape 4 4\n",
            "LotConfig 5 5\n",
            "Neighborhood 25 25\n",
            "BldgType 5 5\n",
            "HouseStyle 8 7\n",
            "RoofStyle 6 6\n",
            "Exterior1st 15 13\n",
            "Exterior2nd 16 15\n",
            "MasVnrType 4 4\n",
            "ExterQual 4 4\n",
            "Foundation 6 6\n",
            "BsmtQual 4 4\n",
            "BsmtExposure 4 4\n",
            "BsmtFinType1 6 6\n",
            "BsmtFinType2 6 6\n",
            "HeatingQC 5 5\n",
            "KitchenQual 4 4\n",
            "FireplaceQu 6 6\n",
            "GarageType 6 6\n",
            "GarageFinish 3 3\n",
            "SaleCondition 6 6\n"
          ],
          "name": "stdout"
        }
      ]
    },
    {
      "cell_type": "code",
      "metadata": {
        "id": "cylQdXPNL3-1",
        "colab_type": "code",
        "colab": {}
      },
      "source": [
        "\"\"\"\n",
        "Now removing those columns from categorical columns whose length of\n",
        "categories dont match with train and test columns.\n",
        "As, those columns can't be used for one hot encoding because then dimensions will be different.\n",
        "\"\"\"\n",
        "\n",
        "for col in cols_to_be_removed:\n",
        "  cat_cols.remove(col)"
      ],
      "execution_count": 0,
      "outputs": []
    },
    {
      "cell_type": "code",
      "metadata": {
        "id": "PPpGiCgrQwVG",
        "colab_type": "code",
        "colab": {
          "base_uri": "https://localhost:8080/",
          "height": 221
        },
        "outputId": "71d43d02-909f-4db5-cf6e-131a6d701b62"
      },
      "source": [
        "df_train.columns"
      ],
      "execution_count": 34,
      "outputs": [
        {
          "output_type": "execute_result",
          "data": {
            "text/plain": [
              "Index(['Id', 'MSSubClass', 'MSZoning', 'LotFrontage', 'LotArea', 'LotShape',\n",
              "       'LotConfig', 'Neighborhood', 'BldgType', 'HouseStyle', 'OverallQual',\n",
              "       'OverallCond', 'YearBuilt', 'YearRemodAdd', 'RoofStyle', 'Exterior1st',\n",
              "       'Exterior2nd', 'MasVnrType', 'MasVnrArea', 'ExterQual', 'Foundation',\n",
              "       'BsmtQual', 'BsmtExposure', 'BsmtFinType1', 'BsmtFinSF1',\n",
              "       'BsmtFinType2', 'BsmtUnfSF', 'TotalBsmtSF', 'HeatingQC', '1stFlrSF',\n",
              "       '2ndFlrSF', 'GrLivArea', 'BsmtFullBath', 'FullBath', 'HalfBath',\n",
              "       'BedroomAbvGr', 'KitchenQual', 'TotRmsAbvGrd', 'Fireplaces',\n",
              "       'FireplaceQu', 'GarageType', 'GarageYrBlt', 'GarageFinish',\n",
              "       'GarageCars', 'GarageArea', 'WoodDeckSF', 'OpenPorchSF',\n",
              "       'EnclosedPorch', 'MoSold', 'YrSold', 'SaleCondition', 'SalePrice'],\n",
              "      dtype='object')"
            ]
          },
          "metadata": {
            "tags": []
          },
          "execution_count": 34
        }
      ]
    },
    {
      "cell_type": "code",
      "metadata": {
        "id": "qOKEZxgpRHUV",
        "colab_type": "code",
        "colab": {
          "base_uri": "https://localhost:8080/",
          "height": 340
        },
        "outputId": "7e3c05b9-1c64-4a5a-8e4a-3d5f2b8c9893"
      },
      "source": [
        "cat_cols"
      ],
      "execution_count": 35,
      "outputs": [
        {
          "output_type": "execute_result",
          "data": {
            "text/plain": [
              "['MSZoning',\n",
              " 'LotShape',\n",
              " 'LotConfig',\n",
              " 'Neighborhood',\n",
              " 'BldgType',\n",
              " 'RoofStyle',\n",
              " 'MasVnrType',\n",
              " 'ExterQual',\n",
              " 'Foundation',\n",
              " 'BsmtQual',\n",
              " 'BsmtExposure',\n",
              " 'BsmtFinType1',\n",
              " 'BsmtFinType2',\n",
              " 'HeatingQC',\n",
              " 'KitchenQual',\n",
              " 'FireplaceQu',\n",
              " 'GarageType',\n",
              " 'GarageFinish',\n",
              " 'SaleCondition']"
            ]
          },
          "metadata": {
            "tags": []
          },
          "execution_count": 35
        }
      ]
    },
    {
      "cell_type": "markdown",
      "metadata": {
        "id": "aG492-I1ROBh",
        "colab_type": "text"
      },
      "source": [
        "## Splitting into features and labels"
      ]
    },
    {
      "cell_type": "code",
      "metadata": {
        "id": "23WQmIPRRKS1",
        "colab_type": "code",
        "colab": {}
      },
      "source": [
        "# For training \n",
        "\n",
        "X = df_train[['MSSubClass','LotFrontage', 'LotArea', 'HouseStyle', 'OverallQual',\n",
        "       'OverallCond', 'YearBuilt', 'YearRemodAdd', 'Exterior1st',\n",
        "       'Exterior2nd', 'MasVnrArea', 'BsmtFinSF1',\n",
        "       'BsmtUnfSF', 'TotalBsmtSF', '1stFlrSF',\n",
        "       '2ndFlrSF', 'GrLivArea', 'BsmtFullBath', 'FullBath', 'HalfBath',\n",
        "       'BedroomAbvGr', 'TotRmsAbvGrd', 'Fireplaces','GarageYrBlt',\n",
        "       'GarageCars', 'GarageArea', 'WoodDeckSF', 'OpenPorchSF',\n",
        "       'EnclosedPorch', 'MoSold', 'YrSold']].values\n",
        "\n",
        "X_cat = df_train[['MSZoning','LotShape','LotConfig','Neighborhood','BldgType','RoofStyle',\n",
        " 'MasVnrType','ExterQual','Foundation','BsmtQual','BsmtExposure','BsmtFinType1',\n",
        " 'BsmtFinType2','HeatingQC','KitchenQual','FireplaceQu','GarageType','GarageFinish','SaleCondition']]  \n",
        "\n",
        "\n",
        "y = df_train['SalePrice'].values\n"
      ],
      "execution_count": 0,
      "outputs": []
    },
    {
      "cell_type": "code",
      "metadata": {
        "id": "o9z6eMNKSxjN",
        "colab_type": "code",
        "colab": {}
      },
      "source": [
        "# For test\n",
        "\n",
        "X_test = df_test[['MSSubClass','LotFrontage', 'LotArea', 'HouseStyle', 'OverallQual',\n",
        "       'OverallCond', 'YearBuilt', 'YearRemodAdd', 'Exterior1st',\n",
        "       'Exterior2nd', 'MasVnrArea', 'BsmtFinSF1',\n",
        "       'BsmtUnfSF', 'TotalBsmtSF', '1stFlrSF',\n",
        "       '2ndFlrSF', 'GrLivArea', 'BsmtFullBath', 'FullBath', 'HalfBath',\n",
        "       'BedroomAbvGr', 'TotRmsAbvGrd', 'Fireplaces','GarageYrBlt',\n",
        "       'GarageCars', 'GarageArea', 'WoodDeckSF', 'OpenPorchSF',\n",
        "       'EnclosedPorch', 'MoSold', 'YrSold']].values\n",
        "\n",
        "X_test_cat = df_test[['MSZoning','LotShape','LotConfig','Neighborhood','BldgType','RoofStyle',\n",
        " 'MasVnrType','ExterQual','Foundation','BsmtQual','BsmtExposure','BsmtFinType1',\n",
        " 'BsmtFinType2','HeatingQC','KitchenQual','FireplaceQu','GarageType','GarageFinish','SaleCondition']]  \n"
      ],
      "execution_count": 0,
      "outputs": []
    },
    {
      "cell_type": "code",
      "metadata": {
        "id": "awZyIYBNS9sH",
        "colab_type": "code",
        "colab": {
          "base_uri": "https://localhost:8080/",
          "height": 323
        },
        "outputId": "66d9622b-77b4-4c5b-d630-6943ccd5cbd9"
      },
      "source": [
        "# Applying One Hot Encoder\n",
        "\n",
        "from sklearn.preprocessing import OneHotEncoder \n",
        "onehotencoder = OneHotEncoder() \n",
        "\n",
        "# For Training\n",
        "\n",
        "X_cat_data = onehotencoder.fit_transform(X_cat).toarray()\n",
        "print(\"Training\")\n",
        "print(X_cat_data.shape, type(X_cat_data))\n",
        "print(X_cat_data)\n",
        "\n",
        "# For testing\n",
        "\n",
        "X_test_cat_data = onehotencoder.transform(X_test_cat).toarray()\n",
        "print(\"Training\")\n",
        "print(X_test_cat_data.shape, type(X_test_cat_data))\n",
        "print(X_test_cat_data)\n"
      ],
      "execution_count": 39,
      "outputs": [
        {
          "output_type": "stream",
          "text": [
            "Training\n",
            "(1460, 114) <class 'numpy.ndarray'>\n",
            "[[0. 0. 0. ... 0. 1. 0.]\n",
            " [0. 0. 0. ... 0. 1. 0.]\n",
            " [0. 0. 0. ... 0. 1. 0.]\n",
            " ...\n",
            " [0. 0. 0. ... 0. 1. 0.]\n",
            " [0. 0. 0. ... 0. 1. 0.]\n",
            " [0. 0. 0. ... 0. 1. 0.]]\n",
            "Training\n",
            "(1459, 114) <class 'numpy.ndarray'>\n",
            "[[0. 0. 1. ... 0. 1. 0.]\n",
            " [0. 0. 0. ... 0. 1. 0.]\n",
            " [0. 0. 0. ... 0. 1. 0.]\n",
            " ...\n",
            " [0. 0. 0. ... 0. 0. 0.]\n",
            " [0. 0. 0. ... 0. 1. 0.]\n",
            " [0. 0. 0. ... 0. 1. 0.]]\n"
          ],
          "name": "stdout"
        }
      ]
    },
    {
      "cell_type": "code",
      "metadata": {
        "id": "1oFQ-TZ-Tvua",
        "colab_type": "code",
        "colab": {
          "base_uri": "https://localhost:8080/",
          "height": 51
        },
        "outputId": "f5938bc9-d2ac-4ebf-bf64-e3c249039c0d"
      },
      "source": [
        "# Merging the encoded values with real X\n",
        "\n",
        "# For train\n",
        "X = np.concatenate((X,X_cat_data),axis=1)\n",
        "print(X.shape)\n",
        "\n",
        "# For test\n",
        "\n",
        "X_test = np.concatenate((X_test,X_test_cat_data),axis=1)\n",
        "print(X_test.shape)"
      ],
      "execution_count": 41,
      "outputs": [
        {
          "output_type": "stream",
          "text": [
            "(1460, 259)\n",
            "(1459, 259)\n"
          ],
          "name": "stdout"
        }
      ]
    },
    {
      "cell_type": "code",
      "metadata": {
        "id": "eu7GXPCSUUrP",
        "colab_type": "code",
        "colab": {
          "base_uri": "https://localhost:8080/",
          "height": 34
        },
        "outputId": "943cf633-3c06-41b2-d97a-5be3ee57b251"
      },
      "source": [
        "input_data = xgb.DMatrix(data=X,label=y)\n",
        "input_data"
      ],
      "execution_count": 43,
      "outputs": [
        {
          "output_type": "execute_result",
          "data": {
            "text/plain": [
              "<xgboost.core.DMatrix at 0x7f2b16c5fda0>"
            ]
          },
          "metadata": {
            "tags": []
          },
          "execution_count": 43
        }
      ]
    },
    {
      "cell_type": "code",
      "metadata": {
        "id": "5dFrLWreUuv8",
        "colab_type": "code",
        "colab": {}
      },
      "source": [
        ""
      ],
      "execution_count": 0,
      "outputs": []
    }
  ]
}