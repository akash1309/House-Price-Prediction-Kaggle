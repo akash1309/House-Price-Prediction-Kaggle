{
  "nbformat": 4,
  "nbformat_minor": 0,
  "metadata": {
    "colab": {
      "name": "Regression.ipynb",
      "provenance": [],
      "mount_file_id": "1pQbGG2JzFjBw6I5VzenmnO8GE2CyX7-y",
      "authorship_tag": "ABX9TyPLrRMK8FXZD8gQAma9dc2p"
    },
    "kernelspec": {
      "name": "python3",
      "display_name": "Python 3"
    }
  },
  "cells": [
    {
      "cell_type": "markdown",
      "metadata": {
        "id": "kf1SNUrKJDYR",
        "colab_type": "text"
      },
      "source": [
        "# House Price Prediction Kaggle Contest"
      ]
    },
    {
      "cell_type": "code",
      "metadata": {
        "id": "WFTG76qWI-zb",
        "colab_type": "code",
        "colab": {}
      },
      "source": [
        "import numpy as np\n",
        "import pandas as pd\n",
        "import matplotlib.pyplot as plt\n",
        "import xgboost as xgb"
      ],
      "execution_count": 0,
      "outputs": []
    },
    {
      "cell_type": "code",
      "metadata": {
        "id": "HL3ABgSzJear",
        "colab_type": "code",
        "colab": {}
      },
      "source": [
        "df_train = pd.read_csv('drive/My Drive/Pytorch_DataSet/house-prices/cleaned_train.csv')\n",
        "df_test = pd.read_csv('drive/My Drive/Pytorch_DataSet/house-prices/cleaned_test.csv')\n",
        "y_test = pd.read_csv('drive/My Drive/Pytorch_DataSet/house-prices/sample_submission.csv')"
      ],
      "execution_count": 0,
      "outputs": []
    },
    {
      "cell_type": "code",
      "metadata": {
        "id": "EdP2UBrTl9Kj",
        "colab_type": "code",
        "colab": {}
      },
      "source": [
        "y_test = y_test['SalePrice'].values"
      ],
      "execution_count": 0,
      "outputs": []
    },
    {
      "cell_type": "code",
      "metadata": {
        "id": "uQeSq5PbJvn5",
        "colab_type": "code",
        "colab": {
          "base_uri": "https://localhost:8080/",
          "height": 54
        },
        "outputId": "a08f2877-c473-47cb-9726-f2127580353f"
      },
      "source": [
        "\"\"\"\n",
        "# For train file\n",
        "\n",
        "for col in df_train.columns:\n",
        "  print(df_train[col].isnull().sum())\n",
        "\n",
        "# For test file\n",
        "\n",
        "for col in df_test.columns:\n",
        "  print(df_test[col].isnull().sum())\n",
        "\n",
        "\"\"\""
      ],
      "execution_count": 4,
      "outputs": [
        {
          "output_type": "execute_result",
          "data": {
            "text/plain": [
              "'\\n# For train file\\n\\nfor col in df_train.columns:\\n  print(df_train[col].isnull().sum())\\n\\n# For test file\\n\\nfor col in df_test.columns:\\n  print(df_test[col].isnull().sum())\\n\\n'"
            ]
          },
          "metadata": {
            "tags": []
          },
          "execution_count": 4
        }
      ]
    },
    {
      "cell_type": "code",
      "metadata": {
        "id": "N9zbiR_fMk3W",
        "colab_type": "code",
        "colab": {}
      },
      "source": [
        "cat_cols = []\n",
        "\n",
        "for col in df_train.columns:\n",
        "  if df_train[col].dtype == 'O':\n",
        "    cat_cols.append(col)"
      ],
      "execution_count": 0,
      "outputs": []
    },
    {
      "cell_type": "code",
      "metadata": {
        "id": "fKeaD9QNM3EH",
        "colab_type": "code",
        "colab": {
          "base_uri": "https://localhost:8080/",
          "height": 391
        },
        "outputId": "13faed63-a871-41d6-fad6-a3f27ae1fe30"
      },
      "source": [
        "cat_cols"
      ],
      "execution_count": 6,
      "outputs": [
        {
          "output_type": "execute_result",
          "data": {
            "text/plain": [
              "['MSZoning',\n",
              " 'LotShape',\n",
              " 'LotConfig',\n",
              " 'Neighborhood',\n",
              " 'BldgType',\n",
              " 'HouseStyle',\n",
              " 'RoofStyle',\n",
              " 'Exterior1st',\n",
              " 'Exterior2nd',\n",
              " 'MasVnrType',\n",
              " 'ExterQual',\n",
              " 'Foundation',\n",
              " 'BsmtQual',\n",
              " 'BsmtExposure',\n",
              " 'BsmtFinType1',\n",
              " 'BsmtFinType2',\n",
              " 'HeatingQC',\n",
              " 'KitchenQual',\n",
              " 'FireplaceQu',\n",
              " 'GarageType',\n",
              " 'GarageFinish',\n",
              " 'SaleCondition']"
            ]
          },
          "metadata": {
            "tags": []
          },
          "execution_count": 6
        }
      ]
    },
    {
      "cell_type": "code",
      "metadata": {
        "id": "y-8J35FZJ7IU",
        "colab_type": "code",
        "colab": {}
      },
      "source": [
        "# For train file\n",
        "\n",
        "for col in df_train.columns:\n",
        "  if df_train[col].dtype == 'O':\n",
        "    df_train[col] = df_train[col].astype('category')\n",
        "\n",
        "# For test file\n",
        "\n",
        "for col in df_test.columns:\n",
        "  if df_test[col].dtype == 'O':\n",
        "    df_test[col] = df_test[col].astype('category')\n"
      ],
      "execution_count": 0,
      "outputs": []
    },
    {
      "cell_type": "code",
      "metadata": {
        "id": "rEiBu8ulKuUt",
        "colab_type": "code",
        "colab": {}
      },
      "source": [
        "# df_train.info()"
      ],
      "execution_count": 0,
      "outputs": []
    },
    {
      "cell_type": "code",
      "metadata": {
        "id": "lxgQr1dCKwbR",
        "colab_type": "code",
        "colab": {}
      },
      "source": [
        "# df_test.info()"
      ],
      "execution_count": 0,
      "outputs": []
    },
    {
      "cell_type": "code",
      "metadata": {
        "id": "akNOT3RbLOQY",
        "colab_type": "code",
        "colab": {
          "base_uri": "https://localhost:8080/",
          "height": 54
        },
        "outputId": "697be208-632f-4be3-aa5c-fda75b5e7052"
      },
      "source": [
        "\"\"\"\n",
        "print(len(df_test['GarageType'].cat.categories))\n",
        "print(df_test['GarageType'].cat.categories)\n",
        "print(df_test['GarageType'].dtype)\n",
        "\"\"\""
      ],
      "execution_count": 10,
      "outputs": [
        {
          "output_type": "execute_result",
          "data": {
            "text/plain": [
              "\"\\nprint(len(df_test['GarageType'].cat.categories))\\nprint(df_test['GarageType'].cat.categories)\\nprint(df_test['GarageType'].dtype)\\n\""
            ]
          },
          "metadata": {
            "tags": []
          },
          "execution_count": 10
        }
      ]
    },
    {
      "cell_type": "code",
      "metadata": {
        "id": "a6l3lDdrK0mV",
        "colab_type": "code",
        "colab": {
          "base_uri": "https://localhost:8080/",
          "height": 391
        },
        "outputId": "1080d790-071d-4e3d-ed7b-e315def96198"
      },
      "source": [
        "# Checking different categories for category columns\n",
        "cols_to_be_removed = []\n",
        "\n",
        "for col in cat_cols:\n",
        "  print(col, len(df_train[col].cat.categories), len(df_test[col].cat.categories))\n",
        "\n",
        "  if len(df_train[col].cat.categories) != len(df_test[col].cat.categories):\n",
        "    cols_to_be_removed.append(col)\n",
        "    \n",
        "  # For train columns\n",
        "  df_train[col] = df_train[col].cat.codes.values\n",
        "\n",
        "  # For test columns\n",
        "  df_test[col] = df_test[col].cat.codes.values\n",
        "\n"
      ],
      "execution_count": 11,
      "outputs": [
        {
          "output_type": "stream",
          "text": [
            "MSZoning 5 5\n",
            "LotShape 4 4\n",
            "LotConfig 5 5\n",
            "Neighborhood 25 25\n",
            "BldgType 5 5\n",
            "HouseStyle 8 7\n",
            "RoofStyle 6 6\n",
            "Exterior1st 15 13\n",
            "Exterior2nd 16 15\n",
            "MasVnrType 4 4\n",
            "ExterQual 4 4\n",
            "Foundation 6 6\n",
            "BsmtQual 4 4\n",
            "BsmtExposure 4 4\n",
            "BsmtFinType1 6 6\n",
            "BsmtFinType2 6 6\n",
            "HeatingQC 5 5\n",
            "KitchenQual 4 4\n",
            "FireplaceQu 6 6\n",
            "GarageType 6 6\n",
            "GarageFinish 3 3\n",
            "SaleCondition 6 6\n"
          ],
          "name": "stdout"
        }
      ]
    },
    {
      "cell_type": "code",
      "metadata": {
        "id": "cylQdXPNL3-1",
        "colab_type": "code",
        "colab": {}
      },
      "source": [
        "\"\"\"\n",
        "Now removing those columns from categorical columns whose length of\n",
        "categories dont match with train and test columns.\n",
        "As, those columns can't be used for one hot encoding because then dimensions will be different.\n",
        "\"\"\"\n",
        "\n",
        "for col in cols_to_be_removed:\n",
        "  cat_cols.remove(col)"
      ],
      "execution_count": 0,
      "outputs": []
    },
    {
      "cell_type": "code",
      "metadata": {
        "id": "PPpGiCgrQwVG",
        "colab_type": "code",
        "colab": {
          "base_uri": "https://localhost:8080/",
          "height": 221
        },
        "outputId": "c9b539c6-0319-4904-c62a-0d136301b4ea"
      },
      "source": [
        "df_train.columns"
      ],
      "execution_count": 13,
      "outputs": [
        {
          "output_type": "execute_result",
          "data": {
            "text/plain": [
              "Index(['Id', 'MSSubClass', 'MSZoning', 'LotFrontage', 'LotArea', 'LotShape',\n",
              "       'LotConfig', 'Neighborhood', 'BldgType', 'HouseStyle', 'OverallQual',\n",
              "       'OverallCond', 'YearBuilt', 'YearRemodAdd', 'RoofStyle', 'Exterior1st',\n",
              "       'Exterior2nd', 'MasVnrType', 'MasVnrArea', 'ExterQual', 'Foundation',\n",
              "       'BsmtQual', 'BsmtExposure', 'BsmtFinType1', 'BsmtFinSF1',\n",
              "       'BsmtFinType2', 'BsmtUnfSF', 'TotalBsmtSF', 'HeatingQC', '1stFlrSF',\n",
              "       '2ndFlrSF', 'GrLivArea', 'BsmtFullBath', 'FullBath', 'HalfBath',\n",
              "       'BedroomAbvGr', 'KitchenQual', 'TotRmsAbvGrd', 'Fireplaces',\n",
              "       'FireplaceQu', 'GarageType', 'GarageYrBlt', 'GarageFinish',\n",
              "       'GarageCars', 'GarageArea', 'WoodDeckSF', 'OpenPorchSF',\n",
              "       'EnclosedPorch', 'MoSold', 'YrSold', 'SaleCondition', 'SalePrice'],\n",
              "      dtype='object')"
            ]
          },
          "metadata": {
            "tags": []
          },
          "execution_count": 13
        }
      ]
    },
    {
      "cell_type": "code",
      "metadata": {
        "id": "qOKEZxgpRHUV",
        "colab_type": "code",
        "colab": {
          "base_uri": "https://localhost:8080/",
          "height": 340
        },
        "outputId": "4e4c7930-a990-4485-eb2e-ccb0b115fb20"
      },
      "source": [
        "cat_cols"
      ],
      "execution_count": 14,
      "outputs": [
        {
          "output_type": "execute_result",
          "data": {
            "text/plain": [
              "['MSZoning',\n",
              " 'LotShape',\n",
              " 'LotConfig',\n",
              " 'Neighborhood',\n",
              " 'BldgType',\n",
              " 'RoofStyle',\n",
              " 'MasVnrType',\n",
              " 'ExterQual',\n",
              " 'Foundation',\n",
              " 'BsmtQual',\n",
              " 'BsmtExposure',\n",
              " 'BsmtFinType1',\n",
              " 'BsmtFinType2',\n",
              " 'HeatingQC',\n",
              " 'KitchenQual',\n",
              " 'FireplaceQu',\n",
              " 'GarageType',\n",
              " 'GarageFinish',\n",
              " 'SaleCondition']"
            ]
          },
          "metadata": {
            "tags": []
          },
          "execution_count": 14
        }
      ]
    },
    {
      "cell_type": "markdown",
      "metadata": {
        "id": "aG492-I1ROBh",
        "colab_type": "text"
      },
      "source": [
        "## Splitting into features and labels"
      ]
    },
    {
      "cell_type": "code",
      "metadata": {
        "id": "23WQmIPRRKS1",
        "colab_type": "code",
        "colab": {}
      },
      "source": [
        "# For training \n",
        "\n",
        "X = df_train[['MSSubClass','LotFrontage', 'HouseStyle',\n",
        "       'OverallCond', 'YearRemodAdd',\n",
        "       'Exterior2nd', 'MasVnrArea', 'BsmtFinSF1',\n",
        "       'BsmtUnfSF', 'TotalBsmtSF', '1stFlrSF',\n",
        "       '2ndFlrSF', 'GrLivArea', 'BsmtFullBath', 'FullBath', 'HalfBath',\n",
        "       'BedroomAbvGr', 'TotRmsAbvGrd', 'Fireplaces','GarageYrBlt',\n",
        "       'GarageCars', 'GarageArea', 'WoodDeckSF', 'OpenPorchSF',\n",
        "       'EnclosedPorch']].values\n",
        "\n",
        "X_cat = df_train[['MSZoning','LotShape','LotConfig','Neighborhood','BldgType','RoofStyle',\n",
        " 'MasVnrType','ExterQual','Foundation','BsmtQual','BsmtExposure','BsmtFinType1',\n",
        " 'HeatingQC','KitchenQual','FireplaceQu','GarageType','GarageFinish','SaleCondition']]  \n",
        "\n",
        "\n",
        "y = df_train['SalePrice'].values\n",
        "y = np.log(y)"
      ],
      "execution_count": 0,
      "outputs": []
    },
    {
      "cell_type": "code",
      "metadata": {
        "id": "o9z6eMNKSxjN",
        "colab_type": "code",
        "colab": {}
      },
      "source": [
        "# For test\n",
        "\n",
        "X_test = df_test[['MSSubClass','LotFrontage', 'HouseStyle',\n",
        "       'OverallCond', 'YearRemodAdd',\n",
        "       'Exterior2nd', 'MasVnrArea', 'BsmtFinSF1',\n",
        "       'BsmtUnfSF', 'TotalBsmtSF', '1stFlrSF',\n",
        "       '2ndFlrSF', 'GrLivArea', 'BsmtFullBath', 'FullBath', 'HalfBath',\n",
        "       'BedroomAbvGr', 'TotRmsAbvGrd', 'Fireplaces','GarageYrBlt',\n",
        "       'GarageCars', 'GarageArea', 'WoodDeckSF', 'OpenPorchSF',\n",
        "       'EnclosedPorch']].values\n",
        "\n",
        "X_test_cat = df_test[['MSZoning','LotShape','LotConfig','Neighborhood','BldgType','RoofStyle',\n",
        " 'MasVnrType','ExterQual','Foundation','BsmtQual','BsmtExposure','BsmtFinType1',\n",
        " 'HeatingQC','KitchenQual','FireplaceQu','GarageType','GarageFinish','SaleCondition']]  \n",
        "\n",
        "y_test = np.log(y_test)"
      ],
      "execution_count": 0,
      "outputs": []
    },
    {
      "cell_type": "code",
      "metadata": {
        "id": "awZyIYBNS9sH",
        "colab_type": "code",
        "colab": {
          "base_uri": "https://localhost:8080/",
          "height": 323
        },
        "outputId": "91047412-1ec3-495f-bea5-bd0bbef6a5f7"
      },
      "source": [
        "# Applying One Hot Encoder\n",
        "\n",
        "from sklearn.preprocessing import OneHotEncoder \n",
        "onehotencoder = OneHotEncoder() \n",
        "\n",
        "# For Training\n",
        "\n",
        "X_cat_data = onehotencoder.fit_transform(X_cat).toarray()\n",
        "print(\"Training\")\n",
        "print(X_cat_data.shape, type(X_cat_data))\n",
        "print(X_cat_data)\n",
        "\n",
        "# For testing\n",
        "\n",
        "X_test_cat_data = onehotencoder.transform(X_test_cat).toarray()\n",
        "print(\"Training\")\n",
        "print(X_test_cat_data.shape, type(X_test_cat_data))\n",
        "print(X_test_cat_data)\n"
      ],
      "execution_count": 17,
      "outputs": [
        {
          "output_type": "stream",
          "text": [
            "Training\n",
            "(1460, 108) <class 'numpy.ndarray'>\n",
            "[[0. 0. 0. ... 0. 1. 0.]\n",
            " [0. 0. 0. ... 0. 1. 0.]\n",
            " [0. 0. 0. ... 0. 1. 0.]\n",
            " ...\n",
            " [0. 0. 0. ... 0. 1. 0.]\n",
            " [0. 0. 0. ... 0. 1. 0.]\n",
            " [0. 0. 0. ... 0. 1. 0.]]\n",
            "Training\n",
            "(1459, 108) <class 'numpy.ndarray'>\n",
            "[[0. 0. 1. ... 0. 1. 0.]\n",
            " [0. 0. 0. ... 0. 1. 0.]\n",
            " [0. 0. 0. ... 0. 1. 0.]\n",
            " ...\n",
            " [0. 0. 0. ... 0. 0. 0.]\n",
            " [0. 0. 0. ... 0. 1. 0.]\n",
            " [0. 0. 0. ... 0. 1. 0.]]\n"
          ],
          "name": "stdout"
        }
      ]
    },
    {
      "cell_type": "code",
      "metadata": {
        "id": "1oFQ-TZ-Tvua",
        "colab_type": "code",
        "colab": {
          "base_uri": "https://localhost:8080/",
          "height": 51
        },
        "outputId": "b7b411fe-3fa0-497d-dda3-51c236a061b8"
      },
      "source": [
        "# Merging the encoded values with real X\n",
        "\n",
        "# For train\n",
        "X = np.concatenate((X,X_cat_data),axis=1)\n",
        "print(X.shape)\n",
        "\n",
        "# For test\n",
        "\n",
        "X_test = np.concatenate((X_test,X_test_cat_data),axis=1)\n",
        "print(X_test.shape)"
      ],
      "execution_count": 18,
      "outputs": [
        {
          "output_type": "stream",
          "text": [
            "(1460, 133)\n",
            "(1459, 133)\n"
          ],
          "name": "stdout"
        }
      ]
    },
    {
      "cell_type": "code",
      "metadata": {
        "id": "eu7GXPCSUUrP",
        "colab_type": "code",
        "colab": {
          "base_uri": "https://localhost:8080/",
          "height": 34
        },
        "outputId": "c32ff835-99c2-4615-a580-d65142778125"
      },
      "source": [
        "input_data = xgb.DMatrix(data=X,label=y)\n",
        "input_data"
      ],
      "execution_count": 19,
      "outputs": [
        {
          "output_type": "execute_result",
          "data": {
            "text/plain": [
              "<xgboost.core.DMatrix at 0x7fe405a4e198>"
            ]
          },
          "metadata": {
            "tags": []
          },
          "execution_count": 19
        }
      ]
    },
    {
      "cell_type": "code",
      "metadata": {
        "id": "5dFrLWreUuv8",
        "colab_type": "code",
        "colab": {}
      },
      "source": [
        "# Splitting the training data set into train and validation set\n",
        "\n",
        "from sklearn.model_selection import train_test_split\n",
        "\n",
        "X_train, X_val, y_train, y_val = train_test_split(X,y,test_size=0.07,random_state=32)"
      ],
      "execution_count": 0,
      "outputs": []
    },
    {
      "cell_type": "code",
      "metadata": {
        "id": "e4Q7pg8Jfswo",
        "colab_type": "code",
        "colab": {
          "base_uri": "https://localhost:8080/",
          "height": 34
        },
        "outputId": "15e84632-6a19-4f4b-9ec3-c03951780cc3"
      },
      "source": [
        "X_train.shape , X_val.shape"
      ],
      "execution_count": 21,
      "outputs": [
        {
          "output_type": "execute_result",
          "data": {
            "text/plain": [
              "((1357, 133), (103, 133))"
            ]
          },
          "metadata": {
            "tags": []
          },
          "execution_count": 21
        }
      ]
    },
    {
      "cell_type": "code",
      "metadata": {
        "id": "ZuS4m1D8fwtr",
        "colab_type": "code",
        "colab": {
          "base_uri": "https://localhost:8080/",
          "height": 34
        },
        "outputId": "da63254c-6d5f-4395-fade-0025428a7134"
      },
      "source": [
        "len(X_train), len(X_val)"
      ],
      "execution_count": 22,
      "outputs": [
        {
          "output_type": "execute_result",
          "data": {
            "text/plain": [
              "(1357, 103)"
            ]
          },
          "metadata": {
            "tags": []
          },
          "execution_count": 22
        }
      ]
    },
    {
      "cell_type": "code",
      "metadata": {
        "id": "9Oo2SLVQf0Bi",
        "colab_type": "code",
        "colab": {
          "base_uri": "https://localhost:8080/",
          "height": 54
        },
        "outputId": "4de296d8-32ac-43db-bca6-598c6cec4c2c"
      },
      "source": [
        "# Applying normalization on train, val and test sets\n",
        "\"\"\"\n",
        "from sklearn.preprocessing import StandardScaler\n",
        "sc1 = StandardScaler()\n",
        "X_train = sc1.fit_transform(X_train)\n",
        "X_val = sc1.transform(X_val)\n",
        "X_test = sc1.transform(X_test)\n",
        "\n",
        "sc2 = StandardScaler()\n",
        "y_train = sc2.fit_transform(y_train.reshape(-1,1))\n",
        "y_val = sc2.transform(y_val.reshape(-1,1))\n",
        "\"\"\""
      ],
      "execution_count": 23,
      "outputs": [
        {
          "output_type": "execute_result",
          "data": {
            "text/plain": [
              "'\\nfrom sklearn.preprocessing import StandardScaler\\nsc1 = StandardScaler()\\nX_train = sc1.fit_transform(X_train)\\nX_val = sc1.transform(X_val)\\nX_test = sc1.transform(X_test)\\n\\nsc2 = StandardScaler()\\ny_train = sc2.fit_transform(y_train.reshape(-1,1))\\ny_val = sc2.transform(y_val.reshape(-1,1))\\n'"
            ]
          },
          "metadata": {
            "tags": []
          },
          "execution_count": 23
        }
      ]
    },
    {
      "cell_type": "code",
      "metadata": {
        "id": "Fx2eU3z6gt72",
        "colab_type": "code",
        "colab": {}
      },
      "source": [
        "xg_reg = xgb.XGBRegressor(objective ='reg:linear')"
      ],
      "execution_count": 0,
      "outputs": []
    },
    {
      "cell_type": "code",
      "metadata": {
        "id": "FpeYOWPbqVu6",
        "colab_type": "code",
        "colab": {
          "base_uri": "https://localhost:8080/",
          "height": 54
        },
        "outputId": "6725a4a2-e92f-4605-dfb7-98bcbed6348f"
      },
      "source": [
        "\"\"\"\n",
        "from sklearn.ensemble import RandomForestRegressor\n",
        "rg = RandomForestRegressor(n_estimators=1000,max_depth=15,n_jobs=-1,bootstrap=True,random_state=50)\n",
        "rg.fit(X_train,y_train)\n",
        "\n",
        "preds = rg.predict(X_val)\n",
        "\n",
        "from sklearn.metrics import mean_squared_error\n",
        "\n",
        "rmse = np.sqrt(mean_squared_error(y_val, preds))\n",
        "print(\"RMSE: %f\" % (rmse))\n",
        "\"\"\""
      ],
      "execution_count": 25,
      "outputs": [
        {
          "output_type": "execute_result",
          "data": {
            "text/plain": [
              "'\\nfrom sklearn.ensemble import RandomForestRegressor\\nrg = RandomForestRegressor(n_estimators=1000,max_depth=15,n_jobs=-1,bootstrap=True,random_state=50)\\nrg.fit(X_train,y_train)\\n\\npreds = rg.predict(X_val)\\n\\nfrom sklearn.metrics import mean_squared_error\\n\\nrmse = np.sqrt(mean_squared_error(y_val, preds))\\nprint(\"RMSE: %f\" % (rmse))\\n'"
            ]
          },
          "metadata": {
            "tags": []
          },
          "execution_count": 25
        }
      ]
    },
    {
      "cell_type": "code",
      "metadata": {
        "id": "5zoh91kyhcFa",
        "colab_type": "code",
        "colab": {
          "base_uri": "https://localhost:8080/",
          "height": 173
        },
        "outputId": "5be54d04-afb7-45e6-ebf7-aecb7b5452a7"
      },
      "source": [
        "xg_reg.fit(X_train,y_train)"
      ],
      "execution_count": 26,
      "outputs": [
        {
          "output_type": "stream",
          "text": [
            "[11:15:54] WARNING: /workspace/src/objective/regression_obj.cu:152: reg:linear is now deprecated in favor of reg:squarederror.\n"
          ],
          "name": "stdout"
        },
        {
          "output_type": "execute_result",
          "data": {
            "text/plain": [
              "XGBRegressor(base_score=0.5, booster='gbtree', colsample_bylevel=1,\n",
              "             colsample_bynode=1, colsample_bytree=1, gamma=0,\n",
              "             importance_type='gain', learning_rate=0.1, max_delta_step=0,\n",
              "             max_depth=3, min_child_weight=1, missing=None, n_estimators=100,\n",
              "             n_jobs=1, nthread=None, objective='reg:linear', random_state=0,\n",
              "             reg_alpha=0, reg_lambda=1, scale_pos_weight=1, seed=None,\n",
              "             silent=None, subsample=1, verbosity=1)"
            ]
          },
          "metadata": {
            "tags": []
          },
          "execution_count": 26
        }
      ]
    },
    {
      "cell_type": "code",
      "metadata": {
        "id": "ZKJTZk6yheeN",
        "colab_type": "code",
        "colab": {}
      },
      "source": [
        "preds = xg_reg.predict(X_val)"
      ],
      "execution_count": 0,
      "outputs": []
    },
    {
      "cell_type": "code",
      "metadata": {
        "id": "90rc7Ca7hifs",
        "colab_type": "code",
        "colab": {
          "base_uri": "https://localhost:8080/",
          "height": 34
        },
        "outputId": "774f1029-0f47-4462-fd9a-08603ac21014"
      },
      "source": [
        "from sklearn.metrics import mean_squared_error\n",
        "\n",
        "rmse = np.sqrt(mean_squared_error(y_val, preds))\n",
        "print(\"RMSE: %f\" % (rmse))"
      ],
      "execution_count": 28,
      "outputs": [
        {
          "output_type": "stream",
          "text": [
            "RMSE: 0.177533\n"
          ],
          "name": "stdout"
        }
      ]
    },
    {
      "cell_type": "code",
      "metadata": {
        "id": "QUw5RiHJhmsG",
        "colab_type": "code",
        "colab": {
          "base_uri": "https://localhost:8080/",
          "height": 282
        },
        "outputId": "f1f954bf-d9b6-4102-9db7-afa49d359093"
      },
      "source": [
        "plt.plot(y_val,'r',label='Actual')\n",
        "plt.plot(preds,'b',label='Predicted')\n",
        "plt.legend()"
      ],
      "execution_count": 29,
      "outputs": [
        {
          "output_type": "execute_result",
          "data": {
            "text/plain": [
              "<matplotlib.legend.Legend at 0x7fe405a42c50>"
            ]
          },
          "metadata": {
            "tags": []
          },
          "execution_count": 29
        },
        {
          "output_type": "display_data",
          "data": {
            "image/png": "[encoded data removed]",
            "text/plain": [
              "<Figure size 432x288 with 1 Axes>"
            ]
          },
          "metadata": {
            "tags": [],
            "needs_background": "light"
          }
        }
      ]
    },
    {
      "cell_type": "code",
      "metadata": {
        "id": "1Vk5FXav4n3u",
        "colab_type": "code",
        "colab": {
          "base_uri": "https://localhost:8080/",
          "height": 295
        },
        "outputId": "9dc7f151-81bb-460c-a0e3-1f519d25c17a"
      },
      "source": [
        "xgb.plot_importance(xg_reg,max_num_features=15)\n",
        "plt.rcParams['figure.figsize'] = [10, 10]\n",
        "plt.show()"
      ],
      "execution_count": 30,
      "outputs": [
        {
          "output_type": "display_data",
          "data": {
            "image/png": "[encoded data removed]",
            "text/plain": [
              "<Figure size 432x288 with 1 Axes>"
            ]
          },
          "metadata": {
            "tags": [],
            "needs_background": "light"
          }
        }
      ]
    },
    {
      "cell_type": "code",
      "metadata": {
        "id": "1TUwbDZBiWOk",
        "colab_type": "code",
        "colab": {}
      },
      "source": [
        "# for testing\n",
        "\n",
        "y_preds = xg_reg.predict(X_test)"
      ],
      "execution_count": 0,
      "outputs": []
    },
    {
      "cell_type": "code",
      "metadata": {
        "id": "rvr26WuVipFj",
        "colab_type": "code",
        "colab": {}
      },
      "source": [
        "#y_preds = sc2.inverse_transform(y_preds.reshape(-1,1))"
      ],
      "execution_count": 0,
      "outputs": []
    },
    {
      "cell_type": "code",
      "metadata": {
        "id": "3-8rh3lZi2uu",
        "colab_type": "code",
        "colab": {}
      },
      "source": [
        "y_preds = np.exp(y_preds)"
      ],
      "execution_count": 0,
      "outputs": []
    },
    {
      "cell_type": "code",
      "metadata": {
        "id": "_CPN5V0zi5cw",
        "colab_type": "code",
        "colab": {
          "base_uri": "https://localhost:8080/",
          "height": 51
        },
        "outputId": "d02cdcaf-9d0c-4b66-af85-85f3ef075d44"
      },
      "source": [
        "y_preds"
      ],
      "execution_count": 35,
      "outputs": [
        {
          "output_type": "execute_result",
          "data": {
            "text/plain": [
              "array([122336.76, 143974.55, 189076.17, ..., 150716.34, 118368.24,\n",
              "       226164.02], dtype=float32)"
            ]
          },
          "metadata": {
            "tags": []
          },
          "execution_count": 35
        }
      ]
    },
    {
      "cell_type": "code",
      "metadata": {
        "id": "6EhYmsTMi6sk",
        "colab_type": "code",
        "colab": {
          "base_uri": "https://localhost:8080/",
          "height": 419
        },
        "outputId": "58cc9c37-2421-4e79-f821-4db26c2f57aa"
      },
      "source": [
        "pd.options.display.float_format = '{:.2f}'.format\n",
        "submission = pd.DataFrame({'id':df_test['Id'],'SalePrice':y_preds.flatten().astype('double')})\n",
        "submission"
      ],
      "execution_count": 36,
      "outputs": [
        {
          "output_type": "execute_result",
          "data": {
            "text/html": [
              "<div>\n",
              "<style scoped>\n",
              "    .dataframe tbody tr th:only-of-type {\n",
              "        vertical-align: middle;\n",
              "    }\n",
              "\n",
              "    .dataframe tbody tr th {\n",
              "        vertical-align: top;\n",
              "    }\n",
              "\n",
              "    .dataframe thead th {\n",
              "        text-align: right;\n",
              "    }\n",
              "</style>\n",
              "<table border=\"1\" class=\"dataframe\">\n",
              "  <thead>\n",
              "    <tr style=\"text-align: right;\">\n",
              "      <th></th>\n",
              "      <th>id</th>\n",
              "      <th>SalePrice</th>\n",
              "    </tr>\n",
              "  </thead>\n",
              "  <tbody>\n",
              "    <tr>\n",
              "      <th>0</th>\n",
              "      <td>1461</td>\n",
              "      <td>122336.76</td>\n",
              "    </tr>\n",
              "    <tr>\n",
              "      <th>1</th>\n",
              "      <td>1462</td>\n",
              "      <td>143974.55</td>\n",
              "    </tr>\n",
              "    <tr>\n",
              "      <th>2</th>\n",
              "      <td>1463</td>\n",
              "      <td>189076.17</td>\n",
              "    </tr>\n",
              "    <tr>\n",
              "      <th>3</th>\n",
              "      <td>1464</td>\n",
              "      <td>189419.08</td>\n",
              "    </tr>\n",
              "    <tr>\n",
              "      <th>4</th>\n",
              "      <td>1465</td>\n",
              "      <td>177229.58</td>\n",
              "    </tr>\n",
              "    <tr>\n",
              "      <th>...</th>\n",
              "      <td>...</td>\n",
              "      <td>...</td>\n",
              "    </tr>\n",
              "    <tr>\n",
              "      <th>1454</th>\n",
              "      <td>2915</td>\n",
              "      <td>85829.24</td>\n",
              "    </tr>\n",
              "    <tr>\n",
              "      <th>1455</th>\n",
              "      <td>2916</td>\n",
              "      <td>83940.13</td>\n",
              "    </tr>\n",
              "    <tr>\n",
              "      <th>1456</th>\n",
              "      <td>2917</td>\n",
              "      <td>150716.34</td>\n",
              "    </tr>\n",
              "    <tr>\n",
              "      <th>1457</th>\n",
              "      <td>2918</td>\n",
              "      <td>118368.24</td>\n",
              "    </tr>\n",
              "    <tr>\n",
              "      <th>1458</th>\n",
              "      <td>2919</td>\n",
              "      <td>226164.02</td>\n",
              "    </tr>\n",
              "  </tbody>\n",
              "</table>\n",
              "<p>1459 rows × 2 columns</p>\n",
              "</div>"
            ],
            "text/plain": [
              "        id  SalePrice\n",
              "0     1461  122336.76\n",
              "1     1462  143974.55\n",
              "2     1463  189076.17\n",
              "3     1464  189419.08\n",
              "4     1465  177229.58\n",
              "...    ...        ...\n",
              "1454  2915   85829.24\n",
              "1455  2916   83940.13\n",
              "1456  2917  150716.34\n",
              "1457  2918  118368.24\n",
              "1458  2919  226164.02\n",
              "\n",
              "[1459 rows x 2 columns]"
            ]
          },
          "metadata": {
            "tags": []
          },
          "execution_count": 36
        }
      ]
    },
    {
      "cell_type": "code",
      "metadata": {
        "id": "P6Knz6y2jBFl",
        "colab_type": "code",
        "colab": {}
      },
      "source": [
        "submission.to_csv('house_price_prediction.csv',index=False)"
      ],
      "execution_count": 0,
      "outputs": []
    },
    {
      "cell_type": "code",
      "metadata": {
        "id": "uWoOHIFCjK0K",
        "colab_type": "code",
        "colab": {}
      },
      "source": [
        ""
      ],
      "execution_count": 0,
      "outputs": []
    }
  ]
}