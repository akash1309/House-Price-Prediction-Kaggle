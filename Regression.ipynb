{
  "nbformat": 4,
  "nbformat_minor": 0,
  "metadata": {
    "colab": {
      "name": "Regression.ipynb",
      "provenance": [],
      "mount_file_id": "1pQbGG2JzFjBw6I5VzenmnO8GE2CyX7-y",
      "authorship_tag": "ABX9TyNbRHUtXL0a3lWGTjrBVZ9s"
    },
    "kernelspec": {
      "name": "python3",
      "display_name": "Python 3"
    }
  },
  "cells": [
    {
      "cell_type": "markdown",
      "metadata": {
        "id": "kf1SNUrKJDYR",
        "colab_type": "text"
      },
      "source": [
        "# House Price Prediction Kaggle Contest"
      ]
    },
    {
      "cell_type": "code",
      "metadata": {
        "id": "WFTG76qWI-zb",
        "colab_type": "code",
        "colab": {}
      },
      "source": [
        "import numpy as np\n",
        "import pandas as pd\n",
        "import matplotlib.pyplot as plt\n",
        "import xgboost as xgb"
      ],
      "execution_count": 0,
      "outputs": []
    },
    {
      "cell_type": "code",
      "metadata": {
        "id": "HL3ABgSzJear",
        "colab_type": "code",
        "colab": {}
      },
      "source": [
        "df_train = pd.read_csv('drive/My Drive/Pytorch_DataSet/house-prices/cleaned_train.csv')\n",
        "df_test = pd.read_csv('drive/My Drive/Pytorch_DataSet/house-prices/cleaned_test.csv')"
      ],
      "execution_count": 0,
      "outputs": []
    },
    {
      "cell_type": "code",
      "metadata": {
        "id": "uQeSq5PbJvn5",
        "colab_type": "code",
        "colab": {
          "base_uri": "https://localhost:8080/",
          "height": 54
        },
        "outputId": "558d990b-0a3f-4546-9eac-743c2ec940d4"
      },
      "source": [
        "\"\"\"\n",
        "# For train file\n",
        "\n",
        "for col in df_train.columns:\n",
        "  print(df_train[col].isnull().sum())\n",
        "\n",
        "# For test file\n",
        "\n",
        "for col in df_test.columns:\n",
        "  print(df_test[col].isnull().sum())\n",
        "\n",
        "\"\"\""
      ],
      "execution_count": 3,
      "outputs": [
        {
          "output_type": "execute_result",
          "data": {
            "text/plain": [
              "'\\n# For train file\\n\\nfor col in df_train.columns:\\n  print(df_train[col].isnull().sum())\\n\\n# For test file\\n\\nfor col in df_test.columns:\\n  print(df_test[col].isnull().sum())\\n\\n'"
            ]
          },
          "metadata": {
            "tags": []
          },
          "execution_count": 3
        }
      ]
    },
    {
      "cell_type": "code",
      "metadata": {
        "id": "N9zbiR_fMk3W",
        "colab_type": "code",
        "colab": {}
      },
      "source": [
        "cat_cols = []\n",
        "\n",
        "for col in df_train.columns:\n",
        "  if df_train[col].dtype == 'O':\n",
        "    cat_cols.append(col)"
      ],
      "execution_count": 0,
      "outputs": []
    },
    {
      "cell_type": "code",
      "metadata": {
        "id": "fKeaD9QNM3EH",
        "colab_type": "code",
        "colab": {
          "base_uri": "https://localhost:8080/",
          "height": 391
        },
        "outputId": "012d877e-bb55-43bb-9372-c19cdbe4db40"
      },
      "source": [
        "cat_cols"
      ],
      "execution_count": 5,
      "outputs": [
        {
          "output_type": "execute_result",
          "data": {
            "text/plain": [
              "['MSZoning',\n",
              " 'LotShape',\n",
              " 'LotConfig',\n",
              " 'Neighborhood',\n",
              " 'BldgType',\n",
              " 'HouseStyle',\n",
              " 'RoofStyle',\n",
              " 'Exterior1st',\n",
              " 'Exterior2nd',\n",
              " 'MasVnrType',\n",
              " 'ExterQual',\n",
              " 'Foundation',\n",
              " 'BsmtQual',\n",
              " 'BsmtExposure',\n",
              " 'BsmtFinType1',\n",
              " 'BsmtFinType2',\n",
              " 'HeatingQC',\n",
              " 'KitchenQual',\n",
              " 'FireplaceQu',\n",
              " 'GarageType',\n",
              " 'GarageFinish',\n",
              " 'SaleCondition']"
            ]
          },
          "metadata": {
            "tags": []
          },
          "execution_count": 5
        }
      ]
    },
    {
      "cell_type": "code",
      "metadata": {
        "id": "y-8J35FZJ7IU",
        "colab_type": "code",
        "colab": {}
      },
      "source": [
        "# For train file\n",
        "\n",
        "for col in df_train.columns:\n",
        "  if df_train[col].dtype == 'O':\n",
        "    df_train[col] = df_train[col].astype('category')\n",
        "\n",
        "# For test file\n",
        "\n",
        "for col in df_test.columns:\n",
        "  if df_test[col].dtype == 'O':\n",
        "    df_test[col] = df_test[col].astype('category')\n"
      ],
      "execution_count": 0,
      "outputs": []
    },
    {
      "cell_type": "code",
      "metadata": {
        "id": "rEiBu8ulKuUt",
        "colab_type": "code",
        "colab": {}
      },
      "source": [
        "# df_train.info()"
      ],
      "execution_count": 0,
      "outputs": []
    },
    {
      "cell_type": "code",
      "metadata": {
        "id": "lxgQr1dCKwbR",
        "colab_type": "code",
        "colab": {}
      },
      "source": [
        "# df_test.info()"
      ],
      "execution_count": 0,
      "outputs": []
    },
    {
      "cell_type": "code",
      "metadata": {
        "id": "akNOT3RbLOQY",
        "colab_type": "code",
        "colab": {
          "base_uri": "https://localhost:8080/",
          "height": 54
        },
        "outputId": "95950f2b-4f55-4de6-863a-3fb02137f461"
      },
      "source": [
        "\"\"\"\n",
        "print(len(df_test['GarageType'].cat.categories))\n",
        "print(df_test['GarageType'].cat.categories)\n",
        "print(df_test['GarageType'].dtype)\n",
        "\"\"\""
      ],
      "execution_count": 9,
      "outputs": [
        {
          "output_type": "execute_result",
          "data": {
            "text/plain": [
              "\"\\nprint(len(df_test['GarageType'].cat.categories))\\nprint(df_test['GarageType'].cat.categories)\\nprint(df_test['GarageType'].dtype)\\n\""
            ]
          },
          "metadata": {
            "tags": []
          },
          "execution_count": 9
        }
      ]
    },
    {
      "cell_type": "code",
      "metadata": {
        "id": "a6l3lDdrK0mV",
        "colab_type": "code",
        "colab": {
          "base_uri": "https://localhost:8080/",
          "height": 391
        },
        "outputId": "3469cd10-2f85-4e6a-faae-10b1309611dd"
      },
      "source": [
        "# Checking different categories for category columns\n",
        "cols_to_be_removed = []\n",
        "\n",
        "for col in cat_cols:\n",
        "  print(col, len(df_train[col].cat.categories), len(df_test[col].cat.categories))\n",
        "\n",
        "  if len(df_train[col].cat.categories) != len(df_test[col].cat.categories):\n",
        "    cols_to_be_removed.append(col)\n",
        "    \n",
        "  # For train columns\n",
        "  df_train[col] = df_train[col].cat.codes.values\n",
        "\n",
        "  # For test columns\n",
        "  df_test[col] = df_test[col].cat.codes.values\n",
        "\n"
      ],
      "execution_count": 10,
      "outputs": [
        {
          "output_type": "stream",
          "text": [
            "MSZoning 5 5\n",
            "LotShape 4 4\n",
            "LotConfig 5 5\n",
            "Neighborhood 25 25\n",
            "BldgType 5 5\n",
            "HouseStyle 8 7\n",
            "RoofStyle 6 6\n",
            "Exterior1st 15 13\n",
            "Exterior2nd 16 15\n",
            "MasVnrType 4 4\n",
            "ExterQual 4 4\n",
            "Foundation 6 6\n",
            "BsmtQual 4 4\n",
            "BsmtExposure 4 4\n",
            "BsmtFinType1 6 6\n",
            "BsmtFinType2 6 6\n",
            "HeatingQC 5 5\n",
            "KitchenQual 4 4\n",
            "FireplaceQu 6 6\n",
            "GarageType 6 6\n",
            "GarageFinish 3 3\n",
            "SaleCondition 6 6\n"
          ],
          "name": "stdout"
        }
      ]
    },
    {
      "cell_type": "code",
      "metadata": {
        "id": "cylQdXPNL3-1",
        "colab_type": "code",
        "colab": {}
      },
      "source": [
        "\"\"\"\n",
        "Now removing those columns from categorical columns whose length of\n",
        "categories dont match with train and test columns.\n",
        "As, those columns can't be used for one hot encoding because then dimensions will be different.\n",
        "\"\"\"\n",
        "\n",
        "for col in cols_to_be_removed:\n",
        "  cat_cols.remove(col)"
      ],
      "execution_count": 0,
      "outputs": []
    },
    {
      "cell_type": "code",
      "metadata": {
        "id": "PPpGiCgrQwVG",
        "colab_type": "code",
        "colab": {
          "base_uri": "https://localhost:8080/",
          "height": 221
        },
        "outputId": "6fcea067-583a-4d3a-b5df-27a3a50f114c"
      },
      "source": [
        "df_train.columns"
      ],
      "execution_count": 12,
      "outputs": [
        {
          "output_type": "execute_result",
          "data": {
            "text/plain": [
              "Index(['Id', 'MSSubClass', 'MSZoning', 'LotFrontage', 'LotArea', 'LotShape',\n",
              "       'LotConfig', 'Neighborhood', 'BldgType', 'HouseStyle', 'OverallQual',\n",
              "       'OverallCond', 'YearBuilt', 'YearRemodAdd', 'RoofStyle', 'Exterior1st',\n",
              "       'Exterior2nd', 'MasVnrType', 'MasVnrArea', 'ExterQual', 'Foundation',\n",
              "       'BsmtQual', 'BsmtExposure', 'BsmtFinType1', 'BsmtFinSF1',\n",
              "       'BsmtFinType2', 'BsmtUnfSF', 'TotalBsmtSF', 'HeatingQC', '1stFlrSF',\n",
              "       '2ndFlrSF', 'GrLivArea', 'BsmtFullBath', 'FullBath', 'HalfBath',\n",
              "       'BedroomAbvGr', 'KitchenQual', 'TotRmsAbvGrd', 'Fireplaces',\n",
              "       'FireplaceQu', 'GarageType', 'GarageYrBlt', 'GarageFinish',\n",
              "       'GarageCars', 'GarageArea', 'WoodDeckSF', 'OpenPorchSF',\n",
              "       'EnclosedPorch', 'MoSold', 'YrSold', 'SaleCondition', 'SalePrice'],\n",
              "      dtype='object')"
            ]
          },
          "metadata": {
            "tags": []
          },
          "execution_count": 12
        }
      ]
    },
    {
      "cell_type": "code",
      "metadata": {
        "id": "qOKEZxgpRHUV",
        "colab_type": "code",
        "colab": {
          "base_uri": "https://localhost:8080/",
          "height": 340
        },
        "outputId": "7ee810cd-6a31-4bea-9a86-5d0fcf8f2821"
      },
      "source": [
        "cat_cols"
      ],
      "execution_count": 13,
      "outputs": [
        {
          "output_type": "execute_result",
          "data": {
            "text/plain": [
              "['MSZoning',\n",
              " 'LotShape',\n",
              " 'LotConfig',\n",
              " 'Neighborhood',\n",
              " 'BldgType',\n",
              " 'RoofStyle',\n",
              " 'MasVnrType',\n",
              " 'ExterQual',\n",
              " 'Foundation',\n",
              " 'BsmtQual',\n",
              " 'BsmtExposure',\n",
              " 'BsmtFinType1',\n",
              " 'BsmtFinType2',\n",
              " 'HeatingQC',\n",
              " 'KitchenQual',\n",
              " 'FireplaceQu',\n",
              " 'GarageType',\n",
              " 'GarageFinish',\n",
              " 'SaleCondition']"
            ]
          },
          "metadata": {
            "tags": []
          },
          "execution_count": 13
        }
      ]
    },
    {
      "cell_type": "markdown",
      "metadata": {
        "id": "aG492-I1ROBh",
        "colab_type": "text"
      },
      "source": [
        "## Splitting into features and labels"
      ]
    },
    {
      "cell_type": "code",
      "metadata": {
        "id": "23WQmIPRRKS1",
        "colab_type": "code",
        "colab": {}
      },
      "source": [
        "# For training \n",
        "\n",
        "X = df_train[['MSSubClass','LotFrontage', 'LotArea', 'HouseStyle', 'OverallQual',\n",
        "       'OverallCond', 'YearBuilt', 'YearRemodAdd', 'Exterior1st',\n",
        "       'Exterior2nd', 'MasVnrArea', 'BsmtFinSF1',\n",
        "       'BsmtUnfSF', 'TotalBsmtSF', '1stFlrSF',\n",
        "       '2ndFlrSF', 'GrLivArea', 'BsmtFullBath', 'FullBath', 'HalfBath',\n",
        "       'BedroomAbvGr', 'TotRmsAbvGrd', 'Fireplaces','GarageYrBlt',\n",
        "       'GarageCars', 'GarageArea', 'WoodDeckSF', 'OpenPorchSF',\n",
        "       'EnclosedPorch', 'MoSold', 'YrSold']].values\n",
        "\n",
        "X_cat = df_train[['MSZoning','LotShape','LotConfig','Neighborhood','BldgType','RoofStyle',\n",
        " 'MasVnrType','ExterQual','Foundation','BsmtQual','BsmtExposure','BsmtFinType1',\n",
        " 'BsmtFinType2','HeatingQC','KitchenQual','FireplaceQu','GarageType','GarageFinish','SaleCondition']]  \n",
        "\n",
        "\n",
        "y = df_train['SalePrice'].values\n",
        "y = np.log(y)"
      ],
      "execution_count": 0,
      "outputs": []
    },
    {
      "cell_type": "code",
      "metadata": {
        "id": "o9z6eMNKSxjN",
        "colab_type": "code",
        "colab": {}
      },
      "source": [
        "# For test\n",
        "\n",
        "X_test = df_test[['MSSubClass','LotFrontage', 'LotArea', 'HouseStyle', 'OverallQual',\n",
        "       'OverallCond', 'YearBuilt', 'YearRemodAdd', 'Exterior1st',\n",
        "       'Exterior2nd', 'MasVnrArea', 'BsmtFinSF1',\n",
        "       'BsmtUnfSF', 'TotalBsmtSF', '1stFlrSF',\n",
        "       '2ndFlrSF', 'GrLivArea', 'BsmtFullBath', 'FullBath', 'HalfBath',\n",
        "       'BedroomAbvGr', 'TotRmsAbvGrd', 'Fireplaces','GarageYrBlt',\n",
        "       'GarageCars', 'GarageArea', 'WoodDeckSF', 'OpenPorchSF',\n",
        "       'EnclosedPorch', 'MoSold', 'YrSold']].values\n",
        "\n",
        "X_test_cat = df_test[['MSZoning','LotShape','LotConfig','Neighborhood','BldgType','RoofStyle',\n",
        " 'MasVnrType','ExterQual','Foundation','BsmtQual','BsmtExposure','BsmtFinType1',\n",
        " 'BsmtFinType2','HeatingQC','KitchenQual','FireplaceQu','GarageType','GarageFinish','SaleCondition']]  \n"
      ],
      "execution_count": 0,
      "outputs": []
    },
    {
      "cell_type": "code",
      "metadata": {
        "id": "awZyIYBNS9sH",
        "colab_type": "code",
        "colab": {
          "base_uri": "https://localhost:8080/",
          "height": 323
        },
        "outputId": "36ce15fb-ab0b-45a8-adb2-6f63cbd6332c"
      },
      "source": [
        "# Applying One Hot Encoder\n",
        "\n",
        "from sklearn.preprocessing import OneHotEncoder \n",
        "onehotencoder = OneHotEncoder() \n",
        "\n",
        "# For Training\n",
        "\n",
        "X_cat_data = onehotencoder.fit_transform(X_cat).toarray()\n",
        "print(\"Training\")\n",
        "print(X_cat_data.shape, type(X_cat_data))\n",
        "print(X_cat_data)\n",
        "\n",
        "# For testing\n",
        "\n",
        "X_test_cat_data = onehotencoder.transform(X_test_cat).toarray()\n",
        "print(\"Training\")\n",
        "print(X_test_cat_data.shape, type(X_test_cat_data))\n",
        "print(X_test_cat_data)\n"
      ],
      "execution_count": 16,
      "outputs": [
        {
          "output_type": "stream",
          "text": [
            "Training\n",
            "(1460, 114) <class 'numpy.ndarray'>\n",
            "[[0. 0. 0. ... 0. 1. 0.]\n",
            " [0. 0. 0. ... 0. 1. 0.]\n",
            " [0. 0. 0. ... 0. 1. 0.]\n",
            " ...\n",
            " [0. 0. 0. ... 0. 1. 0.]\n",
            " [0. 0. 0. ... 0. 1. 0.]\n",
            " [0. 0. 0. ... 0. 1. 0.]]\n",
            "Training\n",
            "(1459, 114) <class 'numpy.ndarray'>\n",
            "[[0. 0. 1. ... 0. 1. 0.]\n",
            " [0. 0. 0. ... 0. 1. 0.]\n",
            " [0. 0. 0. ... 0. 1. 0.]\n",
            " ...\n",
            " [0. 0. 0. ... 0. 0. 0.]\n",
            " [0. 0. 0. ... 0. 1. 0.]\n",
            " [0. 0. 0. ... 0. 1. 0.]]\n"
          ],
          "name": "stdout"
        }
      ]
    },
    {
      "cell_type": "code",
      "metadata": {
        "id": "1oFQ-TZ-Tvua",
        "colab_type": "code",
        "colab": {
          "base_uri": "https://localhost:8080/",
          "height": 51
        },
        "outputId": "79ffeaf4-74c5-4540-da84-0507c5a494d3"
      },
      "source": [
        "# Merging the encoded values with real X\n",
        "\n",
        "# For train\n",
        "X = np.concatenate((X,X_cat_data),axis=1)\n",
        "print(X.shape)\n",
        "\n",
        "# For test\n",
        "\n",
        "X_test = np.concatenate((X_test,X_test_cat_data),axis=1)\n",
        "print(X_test.shape)"
      ],
      "execution_count": 17,
      "outputs": [
        {
          "output_type": "stream",
          "text": [
            "(1460, 145)\n",
            "(1459, 145)\n"
          ],
          "name": "stdout"
        }
      ]
    },
    {
      "cell_type": "code",
      "metadata": {
        "id": "eu7GXPCSUUrP",
        "colab_type": "code",
        "colab": {
          "base_uri": "https://localhost:8080/",
          "height": 34
        },
        "outputId": "fbde7f6d-48f2-4860-9825-4c0a699fbdcc"
      },
      "source": [
        "input_data = xgb.DMatrix(data=X,label=y)\n",
        "input_data"
      ],
      "execution_count": 18,
      "outputs": [
        {
          "output_type": "execute_result",
          "data": {
            "text/plain": [
              "<xgboost.core.DMatrix at 0x7f35056cc390>"
            ]
          },
          "metadata": {
            "tags": []
          },
          "execution_count": 18
        }
      ]
    },
    {
      "cell_type": "code",
      "metadata": {
        "id": "5dFrLWreUuv8",
        "colab_type": "code",
        "colab": {}
      },
      "source": [
        "# Splitting the training data set into train and validation set\n",
        "\n",
        "from sklearn.model_selection import train_test_split\n",
        "\n",
        "X_train, X_val, y_train, y_val = train_test_split(X,y,test_size=0.1,random_state=32)"
      ],
      "execution_count": 0,
      "outputs": []
    },
    {
      "cell_type": "code",
      "metadata": {
        "id": "e4Q7pg8Jfswo",
        "colab_type": "code",
        "colab": {
          "base_uri": "https://localhost:8080/",
          "height": 34
        },
        "outputId": "84c482ed-7cf3-4b55-dd4c-3c4458fb4fbc"
      },
      "source": [
        "X_train.shape , X_val.shape"
      ],
      "execution_count": 20,
      "outputs": [
        {
          "output_type": "execute_result",
          "data": {
            "text/plain": [
              "((1314, 145), (146, 145))"
            ]
          },
          "metadata": {
            "tags": []
          },
          "execution_count": 20
        }
      ]
    },
    {
      "cell_type": "code",
      "metadata": {
        "id": "ZuS4m1D8fwtr",
        "colab_type": "code",
        "colab": {
          "base_uri": "https://localhost:8080/",
          "height": 34
        },
        "outputId": "c1b0d3a0-19f4-4804-c271-5c00139437b5"
      },
      "source": [
        "len(X_train), len(X_val)"
      ],
      "execution_count": 21,
      "outputs": [
        {
          "output_type": "execute_result",
          "data": {
            "text/plain": [
              "(1314, 146)"
            ]
          },
          "metadata": {
            "tags": []
          },
          "execution_count": 21
        }
      ]
    },
    {
      "cell_type": "code",
      "metadata": {
        "id": "9Oo2SLVQf0Bi",
        "colab_type": "code",
        "colab": {}
      },
      "source": [
        "# Applying normalization on train, val and test sets\n",
        "\n",
        "from sklearn.preprocessing import StandardScaler\n",
        "sc1 = StandardScaler()\n",
        "X_train = sc1.fit_transform(X_train)\n",
        "X_val = sc1.transform(X_val)\n",
        "X_test = sc1.transform(X_test)\n",
        "\n",
        "sc2 = StandardScaler()\n",
        "y_train = sc2.fit_transform(y_train.reshape(-1,1))\n",
        "y_val = sc2.transform(y_val.reshape(-1,1))"
      ],
      "execution_count": 0,
      "outputs": []
    },
    {
      "cell_type": "code",
      "metadata": {
        "id": "Fx2eU3z6gt72",
        "colab_type": "code",
        "colab": {}
      },
      "source": [
        ""
      ],
      "execution_count": 0,
      "outputs": []
    }
  ]
}